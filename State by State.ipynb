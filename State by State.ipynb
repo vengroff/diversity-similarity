{
 "cells": [
  {
   "cell_type": "markdown",
   "id": "32bf660a-03ce-4032-9be7-3262165fdc58",
   "metadata": {},
   "source": [
    "# Diversity vs. Similarity at the State Level"
   ]
  },
  {
   "cell_type": "markdown",
   "id": "7d71cfad-5e9c-44b3-8d4e-281b9c135c2f",
   "metadata": {},
   "source": [
    "This notebook compares diversity and segregation at the state level."
   ]
  },
  {
   "cell_type": "markdown",
   "id": "babe0683-c6d0-40f8-b159-6bf756218f50",
   "metadata": {
    "tags": []
   },
   "source": [
    "# 0. Imports and configuration"
   ]
  },
  {
   "cell_type": "code",
   "execution_count": 1,
   "id": "cfbb04b6-d16f-481d-acd7-99985a2f014e",
   "metadata": {
    "tags": []
   },
   "outputs": [],
   "source": [
    "import censusdis.data as ced\n",
    "import censusdis.maps as cem\n",
    "from censusdis import states\n",
    "\n",
    "import divintseg as dis\n",
    "\n",
    "import pandas as pd\n",
    "import numpy as np\n",
    "import matplotlib.pyplot as plt\n",
    "from matplotlib.ticker import PercentFormatter\n",
    "import itertools"
   ]
  },
  {
   "cell_type": "code",
   "execution_count": 2,
   "id": "268bee00-709f-4814-80a6-d896da801ec4",
   "metadata": {},
   "outputs": [],
   "source": [
    "# Fill in your own key here, or leave as is\n",
    "# if you are doing low volume queries that\n",
    "# will not hit the census server usage limits.\n",
    "CENSUS_API_KEY = None"
   ]
  },
  {
   "cell_type": "markdown",
   "id": "c334c5be-7483-42de-800c-7374667b3d80",
   "metadata": {
    "tags": []
   },
   "source": [
    "# 1. Identify the dataset and variables we will use"
   ]
  },
  {
   "cell_type": "code",
   "execution_count": 3,
   "id": "7ee6324c-b7cf-458c-834b-1e9be1d167c0",
   "metadata": {},
   "outputs": [],
   "source": [
    "DATASET = \"acs/acs5\"\n",
    "YEAR = 2020"
   ]
  },
  {
   "cell_type": "code",
   "execution_count": 4,
   "id": "4969fb9e-775a-43d5-9ce0-4f205a938941",
   "metadata": {},
   "outputs": [],
   "source": [
    "GROUP = \"B03002\"\n",
    "\n",
    "HISPANIC_LATINO_VARIABLE = f'{GROUP}_012E'"
   ]
  },
  {
   "cell_type": "code",
   "execution_count": 5,
   "id": "84d510e5-6c47-4e9a-acbe-b4179eb42798",
   "metadata": {},
   "outputs": [
    {
     "data": {
      "text/html": [
       "<div>\n",
       "<style scoped>\n",
       "    .dataframe tbody tr th:only-of-type {\n",
       "        vertical-align: middle;\n",
       "    }\n",
       "\n",
       "    .dataframe tbody tr th {\n",
       "        vertical-align: top;\n",
       "    }\n",
       "\n",
       "    .dataframe thead th {\n",
       "        text-align: right;\n",
       "    }\n",
       "</style>\n",
       "<table border=\"1\" class=\"dataframe\">\n",
       "  <thead>\n",
       "    <tr style=\"text-align: right;\">\n",
       "      <th></th>\n",
       "      <th>YEAR</th>\n",
       "      <th>DATASET</th>\n",
       "      <th>GROUP</th>\n",
       "      <th>VARIABLE</th>\n",
       "      <th>LABEL</th>\n",
       "      <th>SUGGESTED_WEIGHT</th>\n",
       "      <th>VALUES</th>\n",
       "    </tr>\n",
       "  </thead>\n",
       "  <tbody>\n",
       "    <tr>\n",
       "      <th>0</th>\n",
       "      <td>2020</td>\n",
       "      <td>acs/acs5</td>\n",
       "      <td>B03002</td>\n",
       "      <td>B03002_001E</td>\n",
       "      <td>Estimate!!Total:</td>\n",
       "      <td>NaN</td>\n",
       "      <td>None</td>\n",
       "    </tr>\n",
       "    <tr>\n",
       "      <th>1</th>\n",
       "      <td>2020</td>\n",
       "      <td>acs/acs5</td>\n",
       "      <td>B03002</td>\n",
       "      <td>B03002_002E</td>\n",
       "      <td>Estimate!!Total:!!Not Hispanic or Latino:</td>\n",
       "      <td>NaN</td>\n",
       "      <td>None</td>\n",
       "    </tr>\n",
       "    <tr>\n",
       "      <th>2</th>\n",
       "      <td>2020</td>\n",
       "      <td>acs/acs5</td>\n",
       "      <td>B03002</td>\n",
       "      <td>B03002_003E</td>\n",
       "      <td>Estimate!!Total:!!Not Hispanic or Latino:!!Whi...</td>\n",
       "      <td>NaN</td>\n",
       "      <td>None</td>\n",
       "    </tr>\n",
       "    <tr>\n",
       "      <th>3</th>\n",
       "      <td>2020</td>\n",
       "      <td>acs/acs5</td>\n",
       "      <td>B03002</td>\n",
       "      <td>B03002_004E</td>\n",
       "      <td>Estimate!!Total:!!Not Hispanic or Latino:!!Bla...</td>\n",
       "      <td>NaN</td>\n",
       "      <td>None</td>\n",
       "    </tr>\n",
       "    <tr>\n",
       "      <th>4</th>\n",
       "      <td>2020</td>\n",
       "      <td>acs/acs5</td>\n",
       "      <td>B03002</td>\n",
       "      <td>B03002_005E</td>\n",
       "      <td>Estimate!!Total:!!Not Hispanic or Latino:!!Ame...</td>\n",
       "      <td>NaN</td>\n",
       "      <td>None</td>\n",
       "    </tr>\n",
       "    <tr>\n",
       "      <th>5</th>\n",
       "      <td>2020</td>\n",
       "      <td>acs/acs5</td>\n",
       "      <td>B03002</td>\n",
       "      <td>B03002_006E</td>\n",
       "      <td>Estimate!!Total:!!Not Hispanic or Latino:!!Asi...</td>\n",
       "      <td>NaN</td>\n",
       "      <td>None</td>\n",
       "    </tr>\n",
       "    <tr>\n",
       "      <th>6</th>\n",
       "      <td>2020</td>\n",
       "      <td>acs/acs5</td>\n",
       "      <td>B03002</td>\n",
       "      <td>B03002_007E</td>\n",
       "      <td>Estimate!!Total:!!Not Hispanic or Latino:!!Nat...</td>\n",
       "      <td>NaN</td>\n",
       "      <td>None</td>\n",
       "    </tr>\n",
       "    <tr>\n",
       "      <th>7</th>\n",
       "      <td>2020</td>\n",
       "      <td>acs/acs5</td>\n",
       "      <td>B03002</td>\n",
       "      <td>B03002_008E</td>\n",
       "      <td>Estimate!!Total:!!Not Hispanic or Latino:!!Som...</td>\n",
       "      <td>NaN</td>\n",
       "      <td>None</td>\n",
       "    </tr>\n",
       "    <tr>\n",
       "      <th>8</th>\n",
       "      <td>2020</td>\n",
       "      <td>acs/acs5</td>\n",
       "      <td>B03002</td>\n",
       "      <td>B03002_009E</td>\n",
       "      <td>Estimate!!Total:!!Not Hispanic or Latino:!!Two...</td>\n",
       "      <td>NaN</td>\n",
       "      <td>None</td>\n",
       "    </tr>\n",
       "    <tr>\n",
       "      <th>9</th>\n",
       "      <td>2020</td>\n",
       "      <td>acs/acs5</td>\n",
       "      <td>B03002</td>\n",
       "      <td>B03002_010E</td>\n",
       "      <td>Estimate!!Total:!!Not Hispanic or Latino:!!Two...</td>\n",
       "      <td>NaN</td>\n",
       "      <td>None</td>\n",
       "    </tr>\n",
       "    <tr>\n",
       "      <th>10</th>\n",
       "      <td>2020</td>\n",
       "      <td>acs/acs5</td>\n",
       "      <td>B03002</td>\n",
       "      <td>B03002_011E</td>\n",
       "      <td>Estimate!!Total:!!Not Hispanic or Latino:!!Two...</td>\n",
       "      <td>NaN</td>\n",
       "      <td>None</td>\n",
       "    </tr>\n",
       "    <tr>\n",
       "      <th>11</th>\n",
       "      <td>2020</td>\n",
       "      <td>acs/acs5</td>\n",
       "      <td>B03002</td>\n",
       "      <td>B03002_012E</td>\n",
       "      <td>Estimate!!Total:!!Hispanic or Latino:</td>\n",
       "      <td>NaN</td>\n",
       "      <td>None</td>\n",
       "    </tr>\n",
       "    <tr>\n",
       "      <th>12</th>\n",
       "      <td>2020</td>\n",
       "      <td>acs/acs5</td>\n",
       "      <td>B03002</td>\n",
       "      <td>B03002_013E</td>\n",
       "      <td>Estimate!!Total:!!Hispanic or Latino:!!White a...</td>\n",
       "      <td>NaN</td>\n",
       "      <td>None</td>\n",
       "    </tr>\n",
       "    <tr>\n",
       "      <th>13</th>\n",
       "      <td>2020</td>\n",
       "      <td>acs/acs5</td>\n",
       "      <td>B03002</td>\n",
       "      <td>B03002_014E</td>\n",
       "      <td>Estimate!!Total:!!Hispanic or Latino:!!Black o...</td>\n",
       "      <td>NaN</td>\n",
       "      <td>None</td>\n",
       "    </tr>\n",
       "    <tr>\n",
       "      <th>14</th>\n",
       "      <td>2020</td>\n",
       "      <td>acs/acs5</td>\n",
       "      <td>B03002</td>\n",
       "      <td>B03002_015E</td>\n",
       "      <td>Estimate!!Total:!!Hispanic or Latino:!!America...</td>\n",
       "      <td>NaN</td>\n",
       "      <td>None</td>\n",
       "    </tr>\n",
       "    <tr>\n",
       "      <th>15</th>\n",
       "      <td>2020</td>\n",
       "      <td>acs/acs5</td>\n",
       "      <td>B03002</td>\n",
       "      <td>B03002_016E</td>\n",
       "      <td>Estimate!!Total:!!Hispanic or Latino:!!Asian a...</td>\n",
       "      <td>NaN</td>\n",
       "      <td>None</td>\n",
       "    </tr>\n",
       "    <tr>\n",
       "      <th>16</th>\n",
       "      <td>2020</td>\n",
       "      <td>acs/acs5</td>\n",
       "      <td>B03002</td>\n",
       "      <td>B03002_017E</td>\n",
       "      <td>Estimate!!Total:!!Hispanic or Latino:!!Native ...</td>\n",
       "      <td>NaN</td>\n",
       "      <td>None</td>\n",
       "    </tr>\n",
       "    <tr>\n",
       "      <th>17</th>\n",
       "      <td>2020</td>\n",
       "      <td>acs/acs5</td>\n",
       "      <td>B03002</td>\n",
       "      <td>B03002_018E</td>\n",
       "      <td>Estimate!!Total:!!Hispanic or Latino:!!Some ot...</td>\n",
       "      <td>NaN</td>\n",
       "      <td>None</td>\n",
       "    </tr>\n",
       "    <tr>\n",
       "      <th>18</th>\n",
       "      <td>2020</td>\n",
       "      <td>acs/acs5</td>\n",
       "      <td>B03002</td>\n",
       "      <td>B03002_019E</td>\n",
       "      <td>Estimate!!Total:!!Hispanic or Latino:!!Two or ...</td>\n",
       "      <td>NaN</td>\n",
       "      <td>None</td>\n",
       "    </tr>\n",
       "    <tr>\n",
       "      <th>19</th>\n",
       "      <td>2020</td>\n",
       "      <td>acs/acs5</td>\n",
       "      <td>B03002</td>\n",
       "      <td>B03002_020E</td>\n",
       "      <td>Estimate!!Total:!!Hispanic or Latino:!!Two or ...</td>\n",
       "      <td>NaN</td>\n",
       "      <td>None</td>\n",
       "    </tr>\n",
       "    <tr>\n",
       "      <th>20</th>\n",
       "      <td>2020</td>\n",
       "      <td>acs/acs5</td>\n",
       "      <td>B03002</td>\n",
       "      <td>B03002_021E</td>\n",
       "      <td>Estimate!!Total:!!Hispanic or Latino:!!Two or ...</td>\n",
       "      <td>NaN</td>\n",
       "      <td>None</td>\n",
       "    </tr>\n",
       "  </tbody>\n",
       "</table>\n",
       "</div>"
      ],
      "text/plain": [
       "    YEAR   DATASET   GROUP     VARIABLE  \\\n",
       "0   2020  acs/acs5  B03002  B03002_001E   \n",
       "1   2020  acs/acs5  B03002  B03002_002E   \n",
       "2   2020  acs/acs5  B03002  B03002_003E   \n",
       "3   2020  acs/acs5  B03002  B03002_004E   \n",
       "4   2020  acs/acs5  B03002  B03002_005E   \n",
       "5   2020  acs/acs5  B03002  B03002_006E   \n",
       "6   2020  acs/acs5  B03002  B03002_007E   \n",
       "7   2020  acs/acs5  B03002  B03002_008E   \n",
       "8   2020  acs/acs5  B03002  B03002_009E   \n",
       "9   2020  acs/acs5  B03002  B03002_010E   \n",
       "10  2020  acs/acs5  B03002  B03002_011E   \n",
       "11  2020  acs/acs5  B03002  B03002_012E   \n",
       "12  2020  acs/acs5  B03002  B03002_013E   \n",
       "13  2020  acs/acs5  B03002  B03002_014E   \n",
       "14  2020  acs/acs5  B03002  B03002_015E   \n",
       "15  2020  acs/acs5  B03002  B03002_016E   \n",
       "16  2020  acs/acs5  B03002  B03002_017E   \n",
       "17  2020  acs/acs5  B03002  B03002_018E   \n",
       "18  2020  acs/acs5  B03002  B03002_019E   \n",
       "19  2020  acs/acs5  B03002  B03002_020E   \n",
       "20  2020  acs/acs5  B03002  B03002_021E   \n",
       "\n",
       "                                                LABEL  SUGGESTED_WEIGHT VALUES  \n",
       "0                                    Estimate!!Total:               NaN   None  \n",
       "1           Estimate!!Total:!!Not Hispanic or Latino:               NaN   None  \n",
       "2   Estimate!!Total:!!Not Hispanic or Latino:!!Whi...               NaN   None  \n",
       "3   Estimate!!Total:!!Not Hispanic or Latino:!!Bla...               NaN   None  \n",
       "4   Estimate!!Total:!!Not Hispanic or Latino:!!Ame...               NaN   None  \n",
       "5   Estimate!!Total:!!Not Hispanic or Latino:!!Asi...               NaN   None  \n",
       "6   Estimate!!Total:!!Not Hispanic or Latino:!!Nat...               NaN   None  \n",
       "7   Estimate!!Total:!!Not Hispanic or Latino:!!Som...               NaN   None  \n",
       "8   Estimate!!Total:!!Not Hispanic or Latino:!!Two...               NaN   None  \n",
       "9   Estimate!!Total:!!Not Hispanic or Latino:!!Two...               NaN   None  \n",
       "10  Estimate!!Total:!!Not Hispanic or Latino:!!Two...               NaN   None  \n",
       "11              Estimate!!Total:!!Hispanic or Latino:               NaN   None  \n",
       "12  Estimate!!Total:!!Hispanic or Latino:!!White a...               NaN   None  \n",
       "13  Estimate!!Total:!!Hispanic or Latino:!!Black o...               NaN   None  \n",
       "14  Estimate!!Total:!!Hispanic or Latino:!!America...               NaN   None  \n",
       "15  Estimate!!Total:!!Hispanic or Latino:!!Asian a...               NaN   None  \n",
       "16  Estimate!!Total:!!Hispanic or Latino:!!Native ...               NaN   None  \n",
       "17  Estimate!!Total:!!Hispanic or Latino:!!Some ot...               NaN   None  \n",
       "18  Estimate!!Total:!!Hispanic or Latino:!!Two or ...               NaN   None  \n",
       "19  Estimate!!Total:!!Hispanic or Latino:!!Two or ...               NaN   None  \n",
       "20  Estimate!!Total:!!Hispanic or Latino:!!Two or ...               NaN   None  "
      ]
     },
     "execution_count": 5,
     "metadata": {},
     "output_type": "execute_result"
    }
   ],
   "source": [
    "df_variables = ced.variables.all_variables(DATASET, YEAR, GROUP)\n",
    "df_variables"
   ]
  },
  {
   "cell_type": "code",
   "execution_count": 6,
   "id": "0173a3e3-c5ed-4fda-a659-0427054fc8fe",
   "metadata": {},
   "outputs": [],
   "source": [
    "group_leaves = ced.variables.group_leaves(DATASET, YEAR, GROUP)"
   ]
  },
  {
   "cell_type": "code",
   "execution_count": 7,
   "id": "b88380d6-a7e2-4cb9-8ba9-80b90b391515",
   "metadata": {},
   "outputs": [],
   "source": [
    "# Leaves of the group if we prune the tree at \n",
    "# HISPANIC_LATINO_VARIABLE and don't go down \n",
    "# that side of the tree.\n",
    "race_or_hl_leaves = (\n",
    "    [leaf for leaf in group_leaves if leaf < HISPANIC_LATINO_VARIABLE] + \n",
    "    [HISPANIC_LATINO_VARIABLE]\n",
    ")"
   ]
  },
  {
   "cell_type": "markdown",
   "id": "2be52a7f-6485-4ff6-9449-a9349d5a8758",
   "metadata": {},
   "source": [
    "Now we can decide which set of variables we want as leaves. \n",
    "Uncomment one or the other."
   ]
  },
  {
   "cell_type": "code",
   "execution_count": 8,
   "id": "2553a3a6-fbd4-46bc-8797-250a84c2b85a",
   "metadata": {},
   "outputs": [
    {
     "data": {
      "text/plain": [
       "['B03002_003E',\n",
       " 'B03002_004E',\n",
       " 'B03002_005E',\n",
       " 'B03002_006E',\n",
       " 'B03002_007E',\n",
       " 'B03002_008E',\n",
       " 'B03002_010E',\n",
       " 'B03002_011E',\n",
       " 'B03002_012E']"
      ]
     },
     "execution_count": 8,
     "metadata": {},
     "output_type": "execute_result"
    }
   ],
   "source": [
    "#leaves = group_leaves\n",
    "leaves = race_or_hl_leaves\n",
    "\n",
    "leaves"
   ]
  },
  {
   "cell_type": "code",
   "execution_count": 9,
   "id": "b5f224e3-4572-4421-bfb7-085fb213ddb0",
   "metadata": {},
   "outputs": [
    {
     "data": {
      "text/plain": [
       "{'B03002_003E': 'White alone',\n",
       " 'B03002_004E': 'Black or African American alone',\n",
       " 'B03002_005E': 'American Indian and Alaska Native alone',\n",
       " 'B03002_006E': 'Asian alone',\n",
       " 'B03002_007E': 'Native Hawaiian and Other Pacific Islander alone',\n",
       " 'B03002_008E': 'Some other race alone',\n",
       " 'B03002_010E': 'Two races including Some other race',\n",
       " 'B03002_011E': 'Two races excluding Some other race, and three or more races',\n",
       " 'B03002_012E': 'Hispanic or Latino'}"
      ]
     },
     "execution_count": 9,
     "metadata": {},
     "output_type": "execute_result"
    }
   ],
   "source": [
    "leaf_names = {\n",
    "    leaf: df_variables[df_variables['VARIABLE'] == leaf]['LABEL'].iloc[0].split('!!')[-1].split(':')[0]\n",
    "    for leaf in leaves\n",
    "}\n",
    "\n",
    "leaf_names"
   ]
  },
  {
   "cell_type": "markdown",
   "id": "6735922a-77bc-4d3b-93dc-9c4a2d08308e",
   "metadata": {},
   "source": [
    "# 2. Download the data"
   ]
  },
  {
   "cell_type": "code",
   "execution_count": 16,
   "id": "e29f27fc-8d2f-4dec-976e-fd0959516971",
   "metadata": {},
   "outputs": [],
   "source": [
    "def download_state(state: str):\n",
    "    df_state = ced.download(\n",
    "        DATASET,\n",
    "        YEAR,\n",
    "        ['NAME'] + leaves,\n",
    "        state=state,\n",
    "        api_key=CENSUS_API_KEY,\n",
    "    )\n",
    "\n",
    "    return df_state \n",
    "    \n",
    "def download_tracts(state: str):\n",
    "    df_tract = ced.download(\n",
    "        DATASET,\n",
    "        YEAR,\n",
    "        ['NAME'] + leaves,\n",
    "        state=state,\n",
    "        tract=\"*\",\n",
    "        api_key=CENSUS_API_KEY,\n",
    "    )\n",
    "    \n",
    "    # Drop tracts with tiny population.\n",
    "    df_tract = df_tract[df_tract[leaves].sum(axis='columns') >= 100].copy()\n",
    "\n",
    "    return df_tract"
   ]
  },
  {
   "cell_type": "code",
   "execution_count": 18,
   "id": "6e183ecc-ab08-4896-82f8-77dbaac02a9d",
   "metadata": {},
   "outputs": [
    {
     "data": {
      "text/plain": [
       "(1, 11)"
      ]
     },
     "execution_count": 18,
     "metadata": {},
     "output_type": "execute_result"
    }
   ],
   "source": [
    "df_vt = download_state(states.VT)\n",
    "df_vt.shape"
   ]
  },
  {
   "cell_type": "code",
   "execution_count": 21,
   "id": "eb1955ba-abda-4b78-8b3c-604a88827b35",
   "metadata": {
    "tags": []
   },
   "outputs": [
    {
     "data": {
      "text/plain": [
       "0.9235368549187942"
      ]
     },
     "execution_count": 21,
     "metadata": {},
     "output_type": "execute_result"
    }
   ],
   "source": [
    "# Statewide white fraction.\n",
    "float(df_vt['B03002_003E'] / df_vt[leaves].sum(axis='columns'))"
   ]
  },
  {
   "cell_type": "code",
   "execution_count": 19,
   "id": "1a7586be-d1e6-44f9-87eb-6706254ffc87",
   "metadata": {},
   "outputs": [
    {
     "data": {
      "text/plain": [
       "(192, 13)"
      ]
     },
     "execution_count": 19,
     "metadata": {},
     "output_type": "execute_result"
    }
   ],
   "source": [
    "df_vt_tracts = download_tracts(states.VT)\n",
    "df_vt_tracts.shape"
   ]
  },
  {
   "cell_type": "code",
   "execution_count": 41,
   "id": "58b705de-2f9b-4c3e-a235-aa704f2ec461",
   "metadata": {
    "tags": []
   },
   "outputs": [],
   "source": [
    "df_nj = download_state(states.NJ)\n",
    "df_nj_tracts = download_tracts(states.NJ)"
   ]
  },
  {
   "cell_type": "code",
   "execution_count": 23,
   "id": "3a4c8807-51d2-47aa-aeb4-f53af54d7998",
   "metadata": {},
   "outputs": [],
   "source": [
    "def add_frac_cols(df):\n",
    "    df['total'] = df[leaves].sum(axis='columns')\n",
    "\n",
    "    for leaf in leaves:\n",
    "        df[f'frac_{leaf}'] = df[leaf] / df['total']\n",
    "        \n",
    "    return df"
   ]
  },
  {
   "cell_type": "code",
   "execution_count": 25,
   "id": "41a58699-d87c-4a95-ab4b-90af9d95c29c",
   "metadata": {
    "tags": []
   },
   "outputs": [
    {
     "data": {
      "text/html": [
       "<div>\n",
       "<style scoped>\n",
       "    .dataframe tbody tr th:only-of-type {\n",
       "        vertical-align: middle;\n",
       "    }\n",
       "\n",
       "    .dataframe tbody tr th {\n",
       "        vertical-align: top;\n",
       "    }\n",
       "\n",
       "    .dataframe thead th {\n",
       "        text-align: right;\n",
       "    }\n",
       "</style>\n",
       "<table border=\"1\" class=\"dataframe\">\n",
       "  <thead>\n",
       "    <tr style=\"text-align: right;\">\n",
       "      <th></th>\n",
       "      <th>frac_B03002_003E</th>\n",
       "      <th>frac_B03002_004E</th>\n",
       "      <th>frac_B03002_005E</th>\n",
       "      <th>frac_B03002_006E</th>\n",
       "      <th>frac_B03002_007E</th>\n",
       "      <th>frac_B03002_008E</th>\n",
       "      <th>frac_B03002_010E</th>\n",
       "      <th>frac_B03002_011E</th>\n",
       "      <th>frac_B03002_012E</th>\n",
       "    </tr>\n",
       "  </thead>\n",
       "  <tbody>\n",
       "    <tr>\n",
       "      <th>0</th>\n",
       "      <td>0.923537</td>\n",
       "      <td>0.012006</td>\n",
       "      <td>0.002463</td>\n",
       "      <td>0.016084</td>\n",
       "      <td>0.000308</td>\n",
       "      <td>0.001557</td>\n",
       "      <td>0.002555</td>\n",
       "      <td>0.02144</td>\n",
       "      <td>0.02005</td>\n",
       "    </tr>\n",
       "  </tbody>\n",
       "</table>\n",
       "</div>"
      ],
      "text/plain": [
       "   frac_B03002_003E  frac_B03002_004E  frac_B03002_005E  frac_B03002_006E  \\\n",
       "0          0.923537          0.012006          0.002463          0.016084   \n",
       "\n",
       "   frac_B03002_007E  frac_B03002_008E  frac_B03002_010E  frac_B03002_011E  \\\n",
       "0          0.000308          0.001557          0.002555           0.02144   \n",
       "\n",
       "   frac_B03002_012E  \n",
       "0           0.02005  "
      ]
     },
     "execution_count": 25,
     "metadata": {},
     "output_type": "execute_result"
    }
   ],
   "source": [
    "df_vt = add_frac_cols(df_vt)\n",
    "df_vt[[f'frac_{leaf}' for leaf in leaves]]"
   ]
  },
  {
   "cell_type": "code",
   "execution_count": 26,
   "id": "1fa86996-b866-4e85-b280-3d5379ee87c7",
   "metadata": {},
   "outputs": [],
   "source": [
    "df_vt_tracts = add_frac_cols(df_vt_tracts)"
   ]
  },
  {
   "cell_type": "code",
   "execution_count": 28,
   "id": "23bf8337-7f33-487a-a276-7dd7ad5f35e5",
   "metadata": {},
   "outputs": [],
   "source": [
    "df_vt_tracts['max_col'] = df_vt_tracts[leaves].idxmax(axis='columns')"
   ]
  },
  {
   "cell_type": "code",
   "execution_count": 69,
   "id": "6ef3cfa5-fe35-49e7-af74-feb77113c3fd",
   "metadata": {
    "tags": []
   },
   "outputs": [
    {
     "data": {
      "text/plain": [
       "count    192.000000\n",
       "mean       0.929031\n",
       "std        0.050594\n",
       "min        0.681510\n",
       "25%        0.910261\n",
       "50%        0.941369\n",
       "75%        0.963050\n",
       "max        1.000000\n",
       "Name: frac_B03002_003E, dtype: float64"
      ]
     },
     "execution_count": 69,
     "metadata": {},
     "output_type": "execute_result"
    }
   ],
   "source": [
    "df_vt_tracts['frac_B03002_003E'].describe()"
   ]
  },
  {
   "cell_type": "code",
   "execution_count": 29,
   "id": "438fc2cf-e6af-4b92-b399-79030a6b77ea",
   "metadata": {},
   "outputs": [
    {
     "data": {
      "text/plain": [
       "Index(['STATE', 'COUNTY', 'TRACT', 'NAME', 'B03002_003E', 'B03002_004E',\n",
       "       'B03002_005E', 'B03002_006E', 'B03002_007E', 'B03002_008E',\n",
       "       'B03002_010E', 'B03002_011E', 'B03002_012E', 'total',\n",
       "       'frac_B03002_003E', 'frac_B03002_004E', 'frac_B03002_005E',\n",
       "       'frac_B03002_006E', 'frac_B03002_007E', 'frac_B03002_008E',\n",
       "       'frac_B03002_010E', 'frac_B03002_011E', 'frac_B03002_012E', 'max_col'],\n",
       "      dtype='object')"
      ]
     },
     "execution_count": 29,
     "metadata": {},
     "output_type": "execute_result"
    }
   ],
   "source": [
    "df_vt_tracts.columns"
   ]
  },
  {
   "cell_type": "code",
   "execution_count": 42,
   "id": "ec265254-24e2-4c07-9a21-29f9a49832eb",
   "metadata": {
    "tags": []
   },
   "outputs": [],
   "source": [
    "df_nj_tracts = add_frac_cols(df_nj_tracts)"
   ]
  },
  {
   "cell_type": "markdown",
   "id": "9cfb225d-52b3-4a04-83b2-24fcf13b01f9",
   "metadata": {},
   "source": [
    "# 3. Compute Similarity and Diversity"
   ]
  },
  {
   "cell_type": "code",
   "execution_count": 44,
   "id": "3b876c0d-62f6-40af-909f-9e9c10015460",
   "metadata": {
    "tags": []
   },
   "outputs": [],
   "source": [
    "dissim_vt = dis.dissimilarity(\n",
    "    df_communities=df_vt_tracts[leaves],\n",
    "    reference=df_vt[leaves]\n",
    ")"
   ]
  },
  {
   "cell_type": "code",
   "execution_count": 45,
   "id": "72248786-df5f-4211-a304-96e283dc5c44",
   "metadata": {},
   "outputs": [],
   "source": [
    "df_vt_tracts['dissimilarity'] = dissim_vt\n",
    "df_vt_tracts['similarity'] = 1 - dissim_vt"
   ]
  },
  {
   "cell_type": "code",
   "execution_count": 32,
   "id": "b4103489-dcfd-4beb-98e4-7e86f5a4eff7",
   "metadata": {},
   "outputs": [
    {
     "data": {
      "text/html": [
       "<div>\n",
       "<style scoped>\n",
       "    .dataframe tbody tr th:only-of-type {\n",
       "        vertical-align: middle;\n",
       "    }\n",
       "\n",
       "    .dataframe tbody tr th {\n",
       "        vertical-align: top;\n",
       "    }\n",
       "\n",
       "    .dataframe thead th {\n",
       "        text-align: right;\n",
       "    }\n",
       "</style>\n",
       "<table border=\"1\" class=\"dataframe\">\n",
       "  <thead>\n",
       "    <tr style=\"text-align: right;\">\n",
       "      <th></th>\n",
       "      <th>STATE</th>\n",
       "      <th>COUNTY</th>\n",
       "      <th>TRACT</th>\n",
       "      <th>NAME</th>\n",
       "      <th>B03002_003E</th>\n",
       "      <th>B03002_004E</th>\n",
       "      <th>B03002_005E</th>\n",
       "      <th>B03002_006E</th>\n",
       "      <th>B03002_007E</th>\n",
       "      <th>B03002_008E</th>\n",
       "      <th>...</th>\n",
       "      <th>frac_B03002_005E</th>\n",
       "      <th>frac_B03002_006E</th>\n",
       "      <th>frac_B03002_007E</th>\n",
       "      <th>frac_B03002_008E</th>\n",
       "      <th>frac_B03002_010E</th>\n",
       "      <th>frac_B03002_011E</th>\n",
       "      <th>frac_B03002_012E</th>\n",
       "      <th>max_col</th>\n",
       "      <th>dissimilarity</th>\n",
       "      <th>similarity</th>\n",
       "    </tr>\n",
       "  </thead>\n",
       "  <tbody>\n",
       "    <tr>\n",
       "      <th>0</th>\n",
       "      <td>50</td>\n",
       "      <td>027</td>\n",
       "      <td>965902</td>\n",
       "      <td>Census Tract 9659.02, Windsor County, Vermont</td>\n",
       "      <td>1622</td>\n",
       "      <td>0</td>\n",
       "      <td>0</td>\n",
       "      <td>6</td>\n",
       "      <td>0</td>\n",
       "      <td>0</td>\n",
       "      <td>...</td>\n",
       "      <td>0.000000</td>\n",
       "      <td>0.003608</td>\n",
       "      <td>0.0</td>\n",
       "      <td>0.00000</td>\n",
       "      <td>0.000000</td>\n",
       "      <td>0.007817</td>\n",
       "      <td>0.013229</td>\n",
       "      <td>B03002_003E</td>\n",
       "      <td>0.051809</td>\n",
       "      <td>0.948191</td>\n",
       "    </tr>\n",
       "    <tr>\n",
       "      <th>1</th>\n",
       "      <td>50</td>\n",
       "      <td>027</td>\n",
       "      <td>966000</td>\n",
       "      <td>Census Tract 9660, Windsor County, Vermont</td>\n",
       "      <td>3249</td>\n",
       "      <td>12</td>\n",
       "      <td>0</td>\n",
       "      <td>0</td>\n",
       "      <td>0</td>\n",
       "      <td>11</td>\n",
       "      <td>...</td>\n",
       "      <td>0.000000</td>\n",
       "      <td>0.000000</td>\n",
       "      <td>0.0</td>\n",
       "      <td>0.00328</td>\n",
       "      <td>0.000000</td>\n",
       "      <td>0.008646</td>\n",
       "      <td>0.015802</td>\n",
       "      <td>B03002_003E</td>\n",
       "      <td>0.046880</td>\n",
       "      <td>0.953120</td>\n",
       "    </tr>\n",
       "    <tr>\n",
       "      <th>2</th>\n",
       "      <td>50</td>\n",
       "      <td>027</td>\n",
       "      <td>966100</td>\n",
       "      <td>Census Tract 9661, Windsor County, Vermont</td>\n",
       "      <td>2484</td>\n",
       "      <td>36</td>\n",
       "      <td>0</td>\n",
       "      <td>0</td>\n",
       "      <td>0</td>\n",
       "      <td>0</td>\n",
       "      <td>...</td>\n",
       "      <td>0.000000</td>\n",
       "      <td>0.000000</td>\n",
       "      <td>0.0</td>\n",
       "      <td>0.00000</td>\n",
       "      <td>0.000000</td>\n",
       "      <td>0.070803</td>\n",
       "      <td>0.009489</td>\n",
       "      <td>B03002_003E</td>\n",
       "      <td>0.050495</td>\n",
       "      <td>0.949505</td>\n",
       "    </tr>\n",
       "    <tr>\n",
       "      <th>3</th>\n",
       "      <td>50</td>\n",
       "      <td>027</td>\n",
       "      <td>966200</td>\n",
       "      <td>Census Tract 9662, Windsor County, Vermont</td>\n",
       "      <td>1564</td>\n",
       "      <td>3</td>\n",
       "      <td>0</td>\n",
       "      <td>0</td>\n",
       "      <td>0</td>\n",
       "      <td>0</td>\n",
       "      <td>...</td>\n",
       "      <td>0.000000</td>\n",
       "      <td>0.000000</td>\n",
       "      <td>0.0</td>\n",
       "      <td>0.00000</td>\n",
       "      <td>0.001859</td>\n",
       "      <td>0.003717</td>\n",
       "      <td>0.023544</td>\n",
       "      <td>B03002_003E</td>\n",
       "      <td>0.048978</td>\n",
       "      <td>0.951022</td>\n",
       "    </tr>\n",
       "    <tr>\n",
       "      <th>4</th>\n",
       "      <td>50</td>\n",
       "      <td>027</td>\n",
       "      <td>966300</td>\n",
       "      <td>Census Tract 9663, Windsor County, Vermont</td>\n",
       "      <td>1579</td>\n",
       "      <td>1</td>\n",
       "      <td>6</td>\n",
       "      <td>4</td>\n",
       "      <td>0</td>\n",
       "      <td>0</td>\n",
       "      <td>...</td>\n",
       "      <td>0.003392</td>\n",
       "      <td>0.002261</td>\n",
       "      <td>0.0</td>\n",
       "      <td>0.00000</td>\n",
       "      <td>0.000000</td>\n",
       "      <td>0.037309</td>\n",
       "      <td>0.063878</td>\n",
       "      <td>B03002_003E</td>\n",
       "      <td>0.060625</td>\n",
       "      <td>0.939375</td>\n",
       "    </tr>\n",
       "  </tbody>\n",
       "</table>\n",
       "<p>5 rows × 26 columns</p>\n",
       "</div>"
      ],
      "text/plain": [
       "  STATE COUNTY   TRACT                                           NAME  \\\n",
       "0    50    027  965902  Census Tract 9659.02, Windsor County, Vermont   \n",
       "1    50    027  966000     Census Tract 9660, Windsor County, Vermont   \n",
       "2    50    027  966100     Census Tract 9661, Windsor County, Vermont   \n",
       "3    50    027  966200     Census Tract 9662, Windsor County, Vermont   \n",
       "4    50    027  966300     Census Tract 9663, Windsor County, Vermont   \n",
       "\n",
       "   B03002_003E  B03002_004E  B03002_005E  B03002_006E  B03002_007E  \\\n",
       "0         1622            0            0            6            0   \n",
       "1         3249           12            0            0            0   \n",
       "2         2484           36            0            0            0   \n",
       "3         1564            3            0            0            0   \n",
       "4         1579            1            6            4            0   \n",
       "\n",
       "   B03002_008E  ...  frac_B03002_005E  frac_B03002_006E  frac_B03002_007E  \\\n",
       "0            0  ...          0.000000          0.003608               0.0   \n",
       "1           11  ...          0.000000          0.000000               0.0   \n",
       "2            0  ...          0.000000          0.000000               0.0   \n",
       "3            0  ...          0.000000          0.000000               0.0   \n",
       "4            0  ...          0.003392          0.002261               0.0   \n",
       "\n",
       "   frac_B03002_008E  frac_B03002_010E  frac_B03002_011E  frac_B03002_012E  \\\n",
       "0           0.00000          0.000000          0.007817          0.013229   \n",
       "1           0.00328          0.000000          0.008646          0.015802   \n",
       "2           0.00000          0.000000          0.070803          0.009489   \n",
       "3           0.00000          0.001859          0.003717          0.023544   \n",
       "4           0.00000          0.000000          0.037309          0.063878   \n",
       "\n",
       "       max_col  dissimilarity  similarity  \n",
       "0  B03002_003E       0.051809    0.948191  \n",
       "1  B03002_003E       0.046880    0.953120  \n",
       "2  B03002_003E       0.050495    0.949505  \n",
       "3  B03002_003E       0.048978    0.951022  \n",
       "4  B03002_003E       0.060625    0.939375  \n",
       "\n",
       "[5 rows x 26 columns]"
      ]
     },
     "execution_count": 32,
     "metadata": {},
     "output_type": "execute_result"
    }
   ],
   "source": [
    "df_vt_tracts.head()"
   ]
  },
  {
   "cell_type": "code",
   "execution_count": 50,
   "id": "27653226-bab0-41ff-98d5-76bbe418d4b8",
   "metadata": {},
   "outputs": [],
   "source": [
    "diversity_vt = dis.diversity(df_vt_tracts[leaves])\n",
    "df_vt_tracts['diversity'] = diversity_vt"
   ]
  },
  {
   "cell_type": "code",
   "execution_count": null,
   "id": "b59f4e97-ad86-431f-bdf0-60d0bf253eed",
   "metadata": {},
   "outputs": [],
   "source": []
  },
  {
   "cell_type": "code",
   "execution_count": 47,
   "id": "dd82607f-c222-4d30-9a81-c6859f4cc8c3",
   "metadata": {
    "tags": []
   },
   "outputs": [],
   "source": [
    "dissim_nj = dis.dissimilarity(\n",
    "    df_communities=df_nj_tracts[leaves],\n",
    "    reference=df_nj[leaves]\n",
    ")"
   ]
  },
  {
   "cell_type": "code",
   "execution_count": 48,
   "id": "8787cf4e-bcdb-4912-902b-3f007b9f6999",
   "metadata": {},
   "outputs": [],
   "source": [
    "df_nj_tracts['dissimilarity'] = dissim_nj\n",
    "df_nj_tracts['similarity'] = 1 - dissim_nj"
   ]
  },
  {
   "cell_type": "code",
   "execution_count": 51,
   "id": "31a2e007-d44a-41b5-8417-85725b46b956",
   "metadata": {
    "tags": []
   },
   "outputs": [],
   "source": [
    "diversity_nj = dis.diversity(df_nj_tracts[leaves])\n",
    "df_nj_tracts['diversity'] = diversity_nj"
   ]
  },
  {
   "cell_type": "markdown",
   "id": "f9edb408-3176-4d7c-a454-57d215e03bf0",
   "metadata": {},
   "source": [
    "# 4. Calder Plots"
   ]
  },
  {
   "cell_type": "markdown",
   "id": "9b9dd076-4a33-45c7-b5de-2708451bb65f",
   "metadata": {},
   "source": [
    "## Helper Functions for Plotting"
   ]
  },
  {
   "cell_type": "code",
   "execution_count": 66,
   "id": "6b05e6ad-4a52-45aa-af3a-1ab49afb3a00",
   "metadata": {
    "tags": []
   },
   "outputs": [],
   "source": [
    "def scatter_state(df_tract, state: str, color='lightgrey', ax=None):\n",
    "    ax = df_tract.plot.scatter(\n",
    "        'similarity', 'diversity', s=0.2, c=color,\n",
    "        ax=ax,\n",
    "        figsize=(10, 8),\n",
    "        label=f'All Tracts With at Least 100 Residents in {states.ABBREVIATIONS_FROM_IDS[state]} (n = {len(df_tract.index):,.0f})',\n",
    "    )\n",
    "\n",
    "    legend = ax.legend()\n",
    "    for handle in legend.legend_handles:\n",
    "        handle._sizes = [25]\n",
    "    \n",
    "    ax.set_xlim(-0.02, 1.02)\n",
    "    ax.set_ylim(-0.02, 1.02)\n",
    "    ax.grid()\n",
    "    \n",
    "    ax.xaxis.set_major_formatter(PercentFormatter(1.0))\n",
    "    ax.yaxis.set_major_formatter(PercentFormatter(1.0))\n",
    "    \n",
    "    ax.set_xlabel(\"Similarity of Tracts to the State\", fontsize=14)\n",
    "    ax.set_ylabel(\"Tract Diversity\", fontsize=14)\n",
    "    \n",
    "    ax.tick_params(axis='both', which='major', labelsize=12)\n",
    "\n",
    "    return ax\n",
    "\n",
    "\n",
    "def first_row_name(df):\n",
    "    name = df['NAME'].iloc[0]\n",
    "    name = (\n",
    "        f'{name}\\n'\n",
    "        f'{100 * df[\"similarity\"].iloc[0]:.1f}% similarity; '\n",
    "        f'{100 * df[\"diversity\"].iloc[0]:.1f}% diversity; '\n",
    "    )\n",
    "    \n",
    "    return name\n",
    "\n",
    "\n",
    "def plot_hilight(df, ax, color):\n",
    "\n",
    "    name = first_row_name(df)\n",
    "\n",
    "    df.plot.scatter(\n",
    "        'similarity', 'diversity',\n",
    "        s=50, c='#0000', edgecolor=color, linewidth=2,\n",
    "        label=name,\n",
    "        ax=ax\n",
    "    )\n",
    "    \n",
    "    ax.set_xlabel(\"Similarity of Tracts to the State\", fontsize=14)\n",
    "    ax.set_ylabel(\"Tract Diversity\", fontsize=14)\n",
    "\n",
    "\n",
    "def plot_bar_selected(df_selected_points):\n",
    "\n",
    "    df_selected_points['label'] = df_selected_points['NAME'].apply(\n",
    "        lambda name: name.replace(',', '\\n', 1).replace(',', ',\\n').replace('Census Tract ', 'Tract ').replace(\n",
    "            ' Municipality', '\\nMunicipality'\n",
    "        ).replace(\n",
    "            ' County', '\\nCounty'\n",
    "        )\n",
    "    )\n",
    "    df_selected_points = df_selected_points.set_index('label')\n",
    "    df_selected_points = df_selected_points[[f'frac_{leaf}' for leaf in leaves]].rename(\n",
    "        {\n",
    "            f'frac_{leaf}': f'Percent {leaf_names[leaf]}'\n",
    "            for leaf in leaves\n",
    "        },\n",
    "        axis='columns'\n",
    "    )\n",
    "    \n",
    "    ax = df_selected_points.plot.bar(\n",
    "        figsize=(12, 6),\n",
    "    )\n",
    "    ax.grid(axis='y', color='lightgrey')\n",
    "    plt.xticks(rotation=0)\n",
    "    ax.set_xlabel(None)\n",
    "    \n",
    "    ax.yaxis.set_major_formatter(PercentFormatter(1.0))\n",
    "\n",
    "    ax.tick_params(axis='both', which='major', labelsize=12)\n",
    "    \n",
    "    ax.legend(loc='upper center', bbox_to_anchor=(0.5, -0.2),\n",
    "          fancybox=True, shadow=True, ncol=2)\n",
    "    \n",
    "    ax.vlines([0.5, 1.5], 0, 1, colors='darkgrey', linestyle='solid')\n",
    "    \n",
    "    ax.set_ylim(0, 1)\n",
    "    return ax"
   ]
  },
  {
   "cell_type": "markdown",
   "id": "cdf252e1-7e16-4bbd-a2f7-44c7f9783996",
   "metadata": {
    "tags": []
   },
   "source": [
    "## All Tracts\n",
    "\n",
    "A scatter plot of diversity vs. similarity for all census tracts with a population\n",
    "of 100+ in the U.S.\n",
    "\n",
    "The shape is a bit unusual. It looks to me like it could be the profile of a sculpture \n",
    "by Alexander Calder. So I nickname this kind of plot a *Calder plot*."
   ]
  },
  {
   "cell_type": "code",
   "execution_count": 68,
   "id": "c40c84d7-8f72-4931-b6c7-d79877b18535",
   "metadata": {},
   "outputs": [
    {
     "data": {
      "text/plain": [
       "Text(0.5, 1.0, 'Tract Diversity and Similarity to the State Overall')"
      ]
     },
     "execution_count": 68,
     "metadata": {},
     "output_type": "execute_result"
    },
    {
     "data": {
      "image/png": "[encoded data removed]",
      "text/plain": [
       "<Figure size 1000x800 with 1 Axes>"
      ]
     },
     "metadata": {},
     "output_type": "display_data"
    },
    {
     "data": {
      "image/png": "[encoded data removed]",
      "text/plain": [
       "<Figure size 1000x800 with 1 Axes>"
      ]
     },
     "metadata": {},
     "output_type": "display_data"
    }
   ],
   "source": [
    "ax = scatter_state(df_vt_tracts, state=states.VT, color='C2')\n",
    "ax = scatter_state(df_nj_tracts, state=states.NJ, color='C0')\n",
    "\n",
    "ax.set_title(\"Tract Diversity and Similarity to the State Overall\")"
   ]
  },
  {
   "cell_type": "code",
   "execution_count": null,
   "id": "4b1ad20e-eda6-405a-be4e-bfe82b99f2a0",
   "metadata": {},
   "outputs": [],
   "source": []
  }
 ],
 "metadata": {
  "kernelspec": {
   "display_name": "Python 3 (ipykernel)",
   "language": "python",
   "name": "python3"
  },
  "language_info": {
   "codemirror_mode": {
    "name": "ipython",
    "version": 3
   },
   "file_extension": ".py",
   "mimetype": "text/x-python",
   "name": "python",
   "nbconvert_exporter": "python",
   "pygments_lexer": "ipython3",
   "version": "3.9.10"
  }
 },
 "nbformat": 4,
 "nbformat_minor": 5
}
